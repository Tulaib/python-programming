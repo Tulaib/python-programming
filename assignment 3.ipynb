{
 "cells": [
  {
   "cell_type": "code",
   "execution_count": 9,
   "metadata": {},
   "outputs": [
    {
     "name": "stdout",
     "output_type": "stream",
     "text": [
      "\t\t Calculator\n",
      "Enter 1st val = 2\n",
      "Enter 2nd val = 5\n",
      "Enter Operand(+(add),-(min),*(mul),/(div),^(power)) = ^\n",
      "Ans =  32\n"
     ]
    }
   ],
   "source": [
    "print(\"\\t\\t Calculator\")\n",
    "val1 = int(input(\"Enter 1st val = \"))\n",
    "val2 = int(input(\"Enter 2nd val = \"))\n",
    "opr = input(\"Enter Operand(+(add),-(min),*(mul),/(div),^(power)) = \")\n",
    "if opr == '+':\n",
    "    print(\"Ans = \",val1 + val2)\n",
    "elif opr == '-':\n",
    "    print(\"Ans = \",val1 - val2)\n",
    "elif opr == '*':\n",
    "    print(\"Ans = \",val1 * val2)\n",
    "elif opr == '/':\n",
    "    print(\"Ans = \",val1 / val2)\n",
    "elif opr == '^':\n",
    "    print(\"Ans = \",val1 ** val2)\n",
    "else:\n",
    "    print(\"Invalid Operand\")\n"
   ]
  },
  {
   "cell_type": "code",
   "execution_count": 46,
   "metadata": {},
   "outputs": [
    {
     "name": "stdout",
     "output_type": "stream",
     "text": [
      "not in index 0\n",
      "not in index 1\n",
      "Yes in index 2\n",
      "Yes in index 3\n",
      "not in index 4\n"
     ]
    }
   ],
   "source": [
    "vals = ['tul','ali',2,100,'ahmed']\n",
    "for y,x in enumerate(vals):\n",
    "    if type(x) == int:\n",
    "        print(\"Yes in index\",y)\n",
    "    else:\n",
    "        print(\"not in index\",y)\n",
    "        "
   ]
  },
  {
   "cell_type": "code",
   "execution_count": 7,
   "metadata": {},
   "outputs": [
    {
     "name": "stdout",
     "output_type": "stream",
     "text": [
      "OLD =  {'name': 'tulaib', 'roll': '12345', 'gender': 'female'}\n",
      "NEW =  {'name': 'tulaib', 'roll': '12345', 'gender': 'female', 'fun': 'hehe', 'age': '13'}\n"
     ]
    }
   ],
   "source": [
    "dic = {\n",
    "    'name':\"tulaib\",\n",
    "    'roll':\"12345\",\n",
    "    'gender':\"female\"\n",
    "}\n",
    "print(\"OLD = \" , dic)\n",
    "dic.update(fun = 'hehe')\n",
    "dic[\"age\"] = \"13\"\n",
    "print(\"NEW = \",dic)"
   ]
  },
  {
   "cell_type": "code",
   "execution_count": 13,
   "metadata": {},
   "outputs": [
    {
     "name": "stdout",
     "output_type": "stream",
     "text": [
      "12\n"
     ]
    }
   ],
   "source": [
    "dic2= {\n",
    "    'v1':2,\n",
    "    'v2':4,\n",
    "    'v3':6\n",
    "}\n",
    "print(sum(dic2.values()))"
   ]
  },
  {
   "cell_type": "code",
   "execution_count": 45,
   "metadata": {},
   "outputs": [
    {
     "name": "stdout",
     "output_type": "stream",
     "text": [
      "List before removing duplicates : [2, 2, 2, 3, 2, 6, 6, 'ali', 'ahmed', 'ahmed', 'ali']\n",
      "List after removing duplicates : [2, 3, 6, 'ali', 'ahmed']\n"
     ]
    }
   ],
   "source": [
    "lis = [2,2,2,3,2,6,6,'ali','ahmed','ahmed','ali']\n",
    "print(\"List before removing duplicates :\",lis)\n",
    "flist = []\n",
    "for each in lis:\n",
    "    if each not in flist:\n",
    "        flist.append(each)\n",
    "print(\"List after removing duplicates :\",flist)\n",
    "        "
   ]
  },
  {
   "cell_type": "code",
   "execution_count": 52,
   "metadata": {},
   "outputs": [
    {
     "name": "stdout",
     "output_type": "stream",
     "text": [
      "This --> 8  key already exists\n",
      "This --> 100  key doesnot exists\n"
     ]
    }
   ],
   "source": [
    "dic = {4: 100, 23: 20, 39: 10, 23: 40, 12: 50, 8: 60}\n",
    "def key(x):\n",
    "    if x in dic:\n",
    "        print('This -->',x,' key already exists')\n",
    "    else:\n",
    "        print('This -->',x,' key doesnot exists')\n",
    "key(8)\n",
    "key(100)"
   ]
  }
 ],
 "metadata": {
  "kernelspec": {
   "display_name": "Python 3",
   "language": "python",
   "name": "python3"
  },
  "language_info": {
   "codemirror_mode": {
    "name": "ipython",
    "version": 3
   },
   "file_extension": ".py",
   "mimetype": "text/x-python",
   "name": "python",
   "nbconvert_exporter": "python",
   "pygments_lexer": "ipython3",
   "version": "3.7.4"
  }
 },
 "nbformat": 4,
 "nbformat_minor": 2
}
