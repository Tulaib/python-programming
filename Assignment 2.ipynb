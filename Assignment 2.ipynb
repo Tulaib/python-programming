{
 "cells": [
  {
   "cell_type": "code",
   "execution_count": 4,
   "metadata": {},
   "outputs": [
    {
     "name": "stdout",
     "output_type": "stream",
     "text": [
      "\t\t Enter Marks of 5 subjects \n",
      "1st : 78\n",
      "2nd : 98\n",
      "3rd : 99\n",
      "4th : 78\n",
      "5th : 87\n",
      "Percentage =  88.0\n",
      "A+ Grade\n"
     ]
    }
   ],
   "source": [
    "print(\"\\t\\t Enter Marks of 5 subjects \")\n",
    "sb1 = int(input('1st : '))\n",
    "sb2 = int(input('2nd : '))\n",
    "sb3 = int(input('3rd : '))\n",
    "sb4 = int(input('4th : '))\n",
    "sb5 = int(input('5th : '))\n",
    "total=sb1+sb2+sb3+sb4+sb5\n",
    "per=(total/500)*100\n",
    "print(\"Percentage = \" , per)\n",
    "if per >= 80 and per < 100:\n",
    "    print(\"A+ Grade\")\n",
    "elif per >= 70 and  per < 80:\n",
    "    print(\"A Grade\")\n",
    "elif per >= 60 and per > 70:\n",
    "    print(\"B Grade\")\n",
    "elif per >= 50 and per > 60:\n",
    "    print(\"C Grade\")\n",
    "else:\n",
    "    print(\"Fail\")\n",
    "                "
   ]
  },
  {
   "cell_type": "code",
   "execution_count": 7,
   "metadata": {},
   "outputs": [
    {
     "name": "stdout",
     "output_type": "stream",
     "text": [
      "Enter number : 6\n",
      "Even\n"
     ]
    }
   ],
   "source": [
    "a = int(input(\"Enter number : \"))\n",
    "if a%2==0:\n",
    "    print(\"Even\")\n",
    "else:\n",
    "    print(\"Odd\")"
   ]
  },
  {
   "cell_type": "code",
   "execution_count": 10,
   "metadata": {},
   "outputs": [
    {
     "name": "stdout",
     "output_type": "stream",
     "text": [
      "length :  5\n"
     ]
    }
   ],
   "source": [
    "alist = ['abc',3,4,5,6]\n",
    "print(\"length : \" , len(alist))"
   ]
  },
  {
   "cell_type": "code",
   "execution_count": 12,
   "metadata": {},
   "outputs": [
    {
     "name": "stdout",
     "output_type": "stream",
     "text": [
      "sum :  22\n"
     ]
    }
   ],
   "source": [
    "alist = [1,5,6,8,2]\n",
    "sum=0\n",
    "for i in alist:\n",
    "    sum+=i\n",
    "print(\"sum : \" , sum)"
   ]
  },
  {
   "cell_type": "code",
   "execution_count": 13,
   "metadata": {},
   "outputs": [
    {
     "name": "stdout",
     "output_type": "stream",
     "text": [
      "Max Value :  7\n"
     ]
    }
   ],
   "source": [
    "alist = [1,4,5,7,3,2]\n",
    "print(\"Max Value : \" , max(alist))"
   ]
  },
  {
   "cell_type": "code",
   "execution_count": 23,
   "metadata": {},
   "outputs": [
    {
     "name": "stdout",
     "output_type": "stream",
     "text": [
      "[1, 1, 2, 3]\n"
     ]
    }
   ],
   "source": [
    "a = [1,1,2,3,5,8,13,21,34,55,89]\n",
    "new_list = []\n",
    "for item in a:\n",
    "    if item < 5:\n",
    "        new_list.append(item)\n",
    "print(new_list)\n"
   ]
  },
  {
   "cell_type": "code",
   "execution_count": null,
   "metadata": {},
   "outputs": [],
   "source": []
  }
 ],
 "metadata": {
  "kernelspec": {
   "display_name": "Python 3",
   "language": "python",
   "name": "python3"
  },
  "language_info": {
   "codemirror_mode": {
    "name": "ipython",
    "version": 3
   },
   "file_extension": ".py",
   "mimetype": "text/x-python",
   "name": "python",
   "nbconvert_exporter": "python",
   "pygments_lexer": "ipython3",
   "version": "3.7.4"
  }
 },
 "nbformat": 4,
 "nbformat_minor": 2
}
