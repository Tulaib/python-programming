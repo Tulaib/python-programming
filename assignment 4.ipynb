{
 "cells": [
  {
   "cell_type": "code",
   "execution_count": 12,
   "metadata": {},
   "outputs": [
    {
     "name": "stdout",
     "output_type": "stream",
     "text": [
      "{'first_name': 'Ali', 'last_name': 'Ahmed', 'age': '21', 'city': 'karachi'}\n",
      "{'first_name': 'Ali', 'last_name': 'Ahmed', 'age': '21', 'city': 'karachi', 'qualification': 'high acadamic'}\n",
      "{'first_name': 'Ali', 'last_name': 'Ahmed', 'age': '21', 'city': 'karachi'}\n"
     ]
    }
   ],
   "source": [
    "person = {\n",
    "    'first_name':'Ali',\n",
    "    'last_name':'Ahmed',\n",
    "    'age':'21',\n",
    "    'city':'karachi'\n",
    "}\n",
    "print(person)\n",
    "person['qualification']='high acadamic'\n",
    "print(person)\n",
    "del person['qualification']\n",
    "print(person)"
   ]
  },
  {
   "cell_type": "code",
   "execution_count": 17,
   "metadata": {},
   "outputs": [
    {
     "name": "stdout",
     "output_type": "stream",
     "text": [
      "Karachi {'country': 'Pakistan', 'population': '15 million', 'fact': \"It's 6th largest city in the World by population.\"}\n",
      "toronto {'country': 'Canada', 'population': '6 million', 'fact': \"It's 5th largest city in North America.\"}\n",
      "istanbul {'country': 'Turkey', 'population': '15 million', 'fact': 'Istanbul is the only city in the world which is both in Europe and Asia geographicaly.'}\n"
     ]
    }
   ],
   "source": [
    "cities = {\n",
    "    'karachi':{\n",
    "        \"country\":\"Pakistan\",\n",
    "        \"population\":\"15 million\",\n",
    "        \"fact\":\"It's 6th largest city in the World by population.\"\n",
    "    },\n",
    "     'toronto':{\n",
    "        \"country\":\"Canada\",\n",
    "        \"population\":\"6 million\",\n",
    "        \"fact\":\"It's 5th largest city in North America.\"\n",
    "    },\n",
    "     'istanbul':{\n",
    "        \"country\":\"Turkey\",\n",
    "        \"population\":\"15 million\",\n",
    "        \"fact\":\"Istanbul is the only city in the world which is both in Europe and Asia geographicaly.\"\n",
    "    }\n",
    "}\n",
    "print(\"Karachi\",cities['karachi'])\n",
    "print(\"toronto\",cities['toronto'])\n",
    "print(\"istanbul\",cities['istanbul'])"
   ]
  },
  {
   "cell_type": "code",
   "execution_count": 20,
   "metadata": {},
   "outputs": [
    {
     "name": "stdout",
     "output_type": "stream",
     "text": [
      "\t\t\t Movie Theater\n",
      "input your age : 12\n",
      "Ticket is $10\n",
      "input your age : 13\n",
      "Ticket is $15\n",
      "input your age : 2\n",
      "Ticket is free!\n",
      "input your age : 3\n",
      "Ticket is free!\n"
     ]
    }
   ],
   "source": [
    "print(\"\\t\\t\\t Movie Theater\")\n",
    "for each in person:\n",
    "    age = int(input('input your age : '))\n",
    "    if age <= 3:\n",
    "        print(\"Ticket is free!\")\n",
    "    elif age <= 12:\n",
    "        print(\"Ticket is $10\")\n",
    "    else:\n",
    "        print(\"Ticket is $15\")"
   ]
  },
  {
   "cell_type": "code",
   "execution_count": 22,
   "metadata": {},
   "outputs": [
    {
     "name": "stdout",
     "output_type": "stream",
     "text": [
      "One of my favorite books is Python\n"
     ]
    }
   ],
   "source": [
    "def favorite_book(title):\n",
    "    print(\"One of my favorite books is \" + title)\n",
    "favorite_book('Python')"
   ]
  },
  {
   "cell_type": "code",
   "execution_count": 28,
   "metadata": {},
   "outputs": [
    {
     "name": "stdout",
     "output_type": "stream",
     "text": [
      "\t\t\t Guess the number Game\n",
      "Enter your name below tulaib\n",
      "tulaib guess a num between 1 to 30.\n",
      "your guess :\n",
      "3\n",
      "your guess smaller than hidden number \n",
      "your guess :\n",
      "22\n",
      "your guess greater than hidden number \n",
      "\n",
      "It's your last chance!\n",
      "your guess :\n",
      "12\n",
      "your guess smaller than hidden number \n",
      "Sorry I was thinking of number  15\n"
     ]
    }
   ],
   "source": [
    "import random\n",
    "print(\"\\t\\t\\t Guess the number Game\")\n",
    "name = input(\"Enter your name below \")\n",
    "count=0\n",
    "anynum= random.randint(1, 30)\n",
    "print(name + \" guess a num between 1 to 30.\")\n",
    "while count < 3:\n",
    "    print(\"your guess :\")\n",
    "    guess = int(input())\n",
    "    count +=1\n",
    "    if guess < anynum:\n",
    "        print(\"your guess smaller than hidden number \")\n",
    "    if guess > anynum:\n",
    "        print(\"your guess greater than hidden number \")\n",
    "    if count == 2:\n",
    "        print(\"\\nIt's your last chance!\")\n",
    "    if guess == anynum:\n",
    "        break\n",
    "if guess == anynum:\n",
    "    print(\"Nice Work! \" + name + \" your guess is correct! which is \" , guess)\n",
    "if guess != anynum:\n",
    "    print(\"Sorry I was thinking of number \",anynum)\n"
   ]
  },
  {
   "cell_type": "code",
   "execution_count": null,
   "metadata": {},
   "outputs": [],
   "source": []
  }
 ],
 "metadata": {
  "kernelspec": {
   "display_name": "Python 3",
   "language": "python",
   "name": "python3"
  },
  "language_info": {
   "codemirror_mode": {
    "name": "ipython",
    "version": 3
   },
   "file_extension": ".py",
   "mimetype": "text/x-python",
   "name": "python",
   "nbconvert_exporter": "python",
   "pygments_lexer": "ipython3",
   "version": "3.7.4"
  }
 },
 "nbformat": 4,
 "nbformat_minor": 2
}
