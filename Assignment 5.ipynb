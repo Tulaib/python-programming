{
 "cells": [
  {
   "cell_type": "code",
   "execution_count": 2,
   "metadata": {},
   "outputs": [
    {
     "data": {
      "text/plain": [
       "120"
      ]
     },
     "execution_count": 2,
     "metadata": {},
     "output_type": "execute_result"
    }
   ],
   "source": [
    "def fac(n):\n",
    "    if n==0 or n ==1:\n",
    "        return 1\n",
    "    else:\n",
    "        return n*fac(n-1)\n",
    "fac(5)"
   ]
  },
  {
   "cell_type": "code",
   "execution_count": 7,
   "metadata": {},
   "outputs": [
    {
     "name": "stdout",
     "output_type": "stream",
     "text": [
      "No.of upper case :  3\n",
      "Np.of lower case :  11\n"
     ]
    }
   ],
   "source": [
    "def cal(st):\n",
    "    d = {\"upper\":0,\"lower\":0}\n",
    "    for count in st:\n",
    "            if count.isupper():\n",
    "                d[\"upper\"]+=1\n",
    "            if count.islower():\n",
    "                d[\"lower\"]+=1\n",
    "            else:\n",
    "                pass\n",
    "    print(\"No.of upper case : \",d[\"upper\"])\n",
    "    print(\"Np.of lower case : \",d[\"lower\"])\n",
    "    \n",
    "cal(\"My Name is Tulaib\")"
   ]
  },
  {
   "cell_type": "code",
   "execution_count": 15,
   "metadata": {},
   "outputs": [
    {
     "name": "stdout",
     "output_type": "stream",
     "text": [
      "2 4 6 "
     ]
    }
   ],
   "source": [
    "def even(num):\n",
    "    for n in num:\n",
    "        if n % 2 == 0:\n",
    "            print(n,end = ' ')\n",
    "even([1,2,3,4,5,6,7])\n"
   ]
  },
  {
   "cell_type": "code",
   "execution_count": 23,
   "metadata": {},
   "outputs": [
    {
     "name": "stdout",
     "output_type": "stream",
     "text": [
      "A palingdrome\n"
     ]
    }
   ],
   "source": [
    "def palin(sen):\n",
    "    left = 0\n",
    "    right = len(sen) - 1\n",
    "    while right >= left:\n",
    "        if not sen[right] == sen[left]:\n",
    "            print(\"Not a palingdrome\")\n",
    "        left += 1\n",
    "        right -= 1\n",
    "    return print(\"A palingdrome\")\n",
    "palin(\"abbba\")"
   ]
  },
  {
   "cell_type": "code",
   "execution_count": 27,
   "metadata": {},
   "outputs": [
    {
     "name": "stdout",
     "output_type": "stream",
     "text": [
      "13 is a Prime Number\n"
     ]
    }
   ],
   "source": [
    "def prime(num):\n",
    "    if num % 2 == 0:\n",
    "        print(num, \" Not a prime Number\")\n",
    "    else:\n",
    "        print(num,\"is a Prime Number\")\n",
    "prime(13)"
   ]
  },
  {
   "cell_type": "code",
   "execution_count": 46,
   "metadata": {},
   "outputs": [
    {
     "name": "stdout",
     "output_type": "stream",
     "text": [
      "Garment: T-shirt\n",
      "Food: Rice\n",
      "Grocery: Cabbage\n",
      "Stationery: Pen\n"
     ]
    }
   ],
   "source": [
    "def Shop(**allother_items):\n",
    "    for key, value in allother_items.items():\n",
    "        print(key + \": \" + value) \n",
    "Shop(Garment=\"T-shirt\",Food=\"Rice\", Grocery =\"Cabbage\", Stationery=\"Pen\") "
   ]
  }
 ],
 "metadata": {
  "kernelspec": {
   "display_name": "Python 3",
   "language": "python",
   "name": "python3"
  },
  "language_info": {
   "codemirror_mode": {
    "name": "ipython",
    "version": 3
   },
   "file_extension": ".py",
   "mimetype": "text/x-python",
   "name": "python",
   "nbconvert_exporter": "python",
   "pygments_lexer": "ipython3",
   "version": "3.7.4"
  }
 },
 "nbformat": 4,
 "nbformat_minor": 2
}
