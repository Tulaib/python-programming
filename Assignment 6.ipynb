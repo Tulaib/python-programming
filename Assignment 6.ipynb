{
 "cells": [
  {
   "cell_type": "markdown",
   "metadata": {},
   "source": [
    "## Question 1:\n",
    "### Define Object Oriented Programming Language?\n",
    "### Ans:\n",
    "     As the name suggests OOPs refer to those programming language which uses objects for programming.Python is a great programming language that supports OOP. In which we can define a class with attributes and methods."
   ]
  },
  {
   "cell_type": "markdown",
   "metadata": {},
   "source": [
    "## Question 2:\n",
    "### List down the Benefits of OOP?\n",
    "### Ans:\n",
    "It provides a clear modular structure for programs which makes it good for defining abstract datatypes in which implementation details are hidden.\n",
    "\n",
    "Objects can also be reused within an across applications.\n",
    "\n",
    "It makes software easier to maintain.\n",
    "\n",
    "Reuse also enables faster development.\n"
   ]
  },
  {
   "cell_type": "markdown",
   "metadata": {},
   "source": [
    "## Question 3:\n",
    "### Differentiate between function and method?\n",
    "### Ans:\n",
    "####       A function \n",
    "is a piece of code that is called by name.\n",
    " All data that is passed to a function is explicitly passed.\n",
    "####       A Method\n",
    "A method is a piece of code that is called by a name that is associated with an object.\n",
    "A method is able to operate on data that is contained within the class."
   ]
  },
  {
   "cell_type": "markdown",
   "metadata": {},
   "source": [
    "## Question 4:\n",
    "### Define the following terms:\n",
    "#### 1. Class\n",
    "class is a blueprint for creating objects , providing initial values for state member variables or attributes and implementations of behavior (member functions or methods). \n",
    "#### 2. Object\n",
    "An object is an instance of a particular class or subclass with the class's own methods or procedures and data variables.\n",
    "#### 3. Attribute\n",
    "Attributes are data stored inside a class or instance and represent the state or quality of the class or instance.\n",
    "In short attributes store information about the instance.\n",
    "#### 4. Behavior\n",
    "The behavior of an object is defined by its methods,\n",
    "which are the functions and subroutines defined within the object class."
   ]
  },
  {
   "cell_type": "code",
   "execution_count": 20,
   "metadata": {},
   "outputs": [
    {
     "name": "stdout",
     "output_type": "stream",
     "text": [
      "Name of my car is honda\n",
      "This car honda is registered by Tulaib\n",
      "\n",
      "\n",
      "Name of my car is suzuki\n",
      "The car is in black\n",
      "\n",
      "\n",
      "Name of my car is cultus\n",
      "Model num of cultus is 2001\n",
      "\n",
      "\n",
      "Name of my car is BMW\n",
      "The car is in green\n",
      "Model num of BMW is 1992\n",
      "This car BMW is registered by kaleem\n",
      "Number of BMW is aaa-113\n",
      "\n",
      "\n"
     ]
    }
   ],
   "source": [
    "class car:\n",
    "    def __init__(my,model,color,name,register,carid):\n",
    "        my.model = model \n",
    "        my.color = color\n",
    "        my.name = name \n",
    "        my.register = register\n",
    "        my.carid = carid\n",
    "    def names(my):\n",
    "        print(\"Name of my car is \" + my.name)\n",
    "    def clr(my):\n",
    "        print(\"The car is in \" + my.color)\n",
    "    def models(my):\n",
    "        print(\"Model num of \" + my.name + \" is \" + my.model)\n",
    "    def reg(my):\n",
    "        print(\"This car \"+my.name +\" is registered by \" + my.register)\n",
    "    def ids(my):\n",
    "        print(\"Number of \" + my.name + \" is \" + my.carid)\n",
    "    \n",
    "car1 = car(\"2019\",\"red\",\"honda\",\"Tulaib\",\"BNR-223\")\n",
    "car1.names() ; car1.reg() \n",
    "print(\"\\n\")\n",
    "car2 = car(\"2008\",\"black\",\"suzuki\",\"ahmed\",\"abc-223\")\n",
    "car2.names() ; car2.clr()\n",
    "print(\"\\n\")\n",
    "car3 = car(\"2001\",\"white\",\"cultus\",\"ali\",\"aje-783\")\n",
    "car3.names() \n",
    "car3.models() \n",
    "print(\"\\n\")\n",
    "car4 = car(\"1992\",\"green\",\"BMW\",\"kaleem\",\"aaa-113\")\n",
    "car4.names() ; car4.clr() ; car4.models() ; car4.reg() ; car4.ids() \n",
    "print(\"\\n\")"
   ]
  }
 ],
 "metadata": {
  "kernelspec": {
   "display_name": "Python 3",
   "language": "python",
   "name": "python3"
  },
  "language_info": {
   "codemirror_mode": {
    "name": "ipython",
    "version": 3
   },
   "file_extension": ".py",
   "mimetype": "text/x-python",
   "name": "python",
   "nbconvert_exporter": "python",
   "pygments_lexer": "ipython3",
   "version": "3.7.4"
  }
 },
 "nbformat": 4,
 "nbformat_minor": 2
}
